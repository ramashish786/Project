{
 "cells": [
  {
   "cell_type": "code",
   "execution_count": 1,
   "id": "101a8455",
   "metadata": {},
   "outputs": [],
   "source": [
    "import pandas as pd\n",
    "import numpy as np\n",
    "import seaborn as sns\n",
    "import matplotlib.pyplot as plt"
   ]
  },
  {
   "cell_type": "code",
   "execution_count": 2,
   "id": "80b16e32",
   "metadata": {},
   "outputs": [],
   "source": [
    "census_raw = pd.read_csv(\"../Data files/county_census_and_election_result.csv\")"
   ]
  },
  {
   "cell_type": "code",
   "execution_count": 3,
   "id": "0b981cbb",
   "metadata": {},
   "outputs": [
    {
     "data": {
      "text/html": [
       "<div>\n",
       "<style scoped>\n",
       "    .dataframe tbody tr th:only-of-type {\n",
       "        vertical-align: middle;\n",
       "    }\n",
       "\n",
       "    .dataframe tbody tr th {\n",
       "        vertical-align: top;\n",
       "    }\n",
       "\n",
       "    .dataframe thead th {\n",
       "        text-align: right;\n",
       "    }\n",
       "</style>\n",
       "<table border=\"1\" class=\"dataframe\">\n",
       "  <thead>\n",
       "    <tr style=\"text-align: right;\">\n",
       "      <th></th>\n",
       "      <th>year</th>\n",
       "      <th>county_fips</th>\n",
       "      <th>inctot</th>\n",
       "      <th>mortamt1</th>\n",
       "      <th>avrg_age</th>\n",
       "      <th>ftotinc</th>\n",
       "      <th>foodstmp_1_freq</th>\n",
       "      <th>foodstmp_2_freq</th>\n",
       "      <th>sex_2_freq</th>\n",
       "      <th>sex_1_freq</th>\n",
       "      <th>...</th>\n",
       "      <th>empstat_3.0_freq</th>\n",
       "      <th>empstat_2.0_freq</th>\n",
       "      <th>state_po</th>\n",
       "      <th>county_name</th>\n",
       "      <th>democrat</th>\n",
       "      <th>green</th>\n",
       "      <th>liberitarian</th>\n",
       "      <th>other</th>\n",
       "      <th>republican</th>\n",
       "      <th>winner</th>\n",
       "    </tr>\n",
       "  </thead>\n",
       "  <tbody>\n",
       "    <tr>\n",
       "      <th>0</th>\n",
       "      <td>2000</td>\n",
       "      <td>1</td>\n",
       "      <td>24566.4</td>\n",
       "      <td>634.6</td>\n",
       "      <td>46.0</td>\n",
       "      <td>46912.7</td>\n",
       "      <td>93.6</td>\n",
       "      <td>6.4</td>\n",
       "      <td>54.0</td>\n",
       "      <td>46.0</td>\n",
       "      <td>...</td>\n",
       "      <td>38.4</td>\n",
       "      <td>3.2</td>\n",
       "      <td>NaN</td>\n",
       "      <td>NaN</td>\n",
       "      <td>NaN</td>\n",
       "      <td>NaN</td>\n",
       "      <td>NaN</td>\n",
       "      <td>NaN</td>\n",
       "      <td>NaN</td>\n",
       "      <td>NaN</td>\n",
       "    </tr>\n",
       "    <tr>\n",
       "      <th>1</th>\n",
       "      <td>2000</td>\n",
       "      <td>2</td>\n",
       "      <td>33842.9</td>\n",
       "      <td>1080.1</td>\n",
       "      <td>42.4</td>\n",
       "      <td>65021.9</td>\n",
       "      <td>95.3</td>\n",
       "      <td>4.7</td>\n",
       "      <td>50.3</td>\n",
       "      <td>49.7</td>\n",
       "      <td>...</td>\n",
       "      <td>25.2</td>\n",
       "      <td>4.8</td>\n",
       "      <td>NaN</td>\n",
       "      <td>NaN</td>\n",
       "      <td>NaN</td>\n",
       "      <td>NaN</td>\n",
       "      <td>NaN</td>\n",
       "      <td>NaN</td>\n",
       "      <td>NaN</td>\n",
       "      <td>NaN</td>\n",
       "    </tr>\n",
       "    <tr>\n",
       "      <th>2</th>\n",
       "      <td>2000</td>\n",
       "      <td>4</td>\n",
       "      <td>28331.7</td>\n",
       "      <td>814.7</td>\n",
       "      <td>45.3</td>\n",
       "      <td>52826.7</td>\n",
       "      <td>95.8</td>\n",
       "      <td>4.2</td>\n",
       "      <td>52.1</td>\n",
       "      <td>47.9</td>\n",
       "      <td>...</td>\n",
       "      <td>38.3</td>\n",
       "      <td>3.2</td>\n",
       "      <td>NaN</td>\n",
       "      <td>NaN</td>\n",
       "      <td>NaN</td>\n",
       "      <td>NaN</td>\n",
       "      <td>NaN</td>\n",
       "      <td>NaN</td>\n",
       "      <td>NaN</td>\n",
       "      <td>NaN</td>\n",
       "    </tr>\n",
       "    <tr>\n",
       "      <th>3</th>\n",
       "      <td>2000</td>\n",
       "      <td>5</td>\n",
       "      <td>22782.6</td>\n",
       "      <td>557.5</td>\n",
       "      <td>46.2</td>\n",
       "      <td>43941.3</td>\n",
       "      <td>92.5</td>\n",
       "      <td>7.5</td>\n",
       "      <td>53.0</td>\n",
       "      <td>47.0</td>\n",
       "      <td>...</td>\n",
       "      <td>37.8</td>\n",
       "      <td>3.2</td>\n",
       "      <td>NaN</td>\n",
       "      <td>NaN</td>\n",
       "      <td>NaN</td>\n",
       "      <td>NaN</td>\n",
       "      <td>NaN</td>\n",
       "      <td>NaN</td>\n",
       "      <td>NaN</td>\n",
       "      <td>NaN</td>\n",
       "    </tr>\n",
       "    <tr>\n",
       "      <th>4</th>\n",
       "      <td>2000</td>\n",
       "      <td>6</td>\n",
       "      <td>32245.0</td>\n",
       "      <td>1216.3</td>\n",
       "      <td>43.8</td>\n",
       "      <td>61455.3</td>\n",
       "      <td>95.7</td>\n",
       "      <td>4.3</td>\n",
       "      <td>52.0</td>\n",
       "      <td>48.0</td>\n",
       "      <td>...</td>\n",
       "      <td>35.1</td>\n",
       "      <td>3.6</td>\n",
       "      <td>NaN</td>\n",
       "      <td>NaN</td>\n",
       "      <td>NaN</td>\n",
       "      <td>NaN</td>\n",
       "      <td>NaN</td>\n",
       "      <td>NaN</td>\n",
       "      <td>NaN</td>\n",
       "      <td>NaN</td>\n",
       "    </tr>\n",
       "  </tbody>\n",
       "</table>\n",
       "<p>5 rows × 45 columns</p>\n",
       "</div>"
      ],
      "text/plain": [
       "   year  county_fips   inctot  mortamt1  avrg_age  ftotinc  foodstmp_1_freq  \\\n",
       "0  2000            1  24566.4     634.6      46.0  46912.7             93.6   \n",
       "1  2000            2  33842.9    1080.1      42.4  65021.9             95.3   \n",
       "2  2000            4  28331.7     814.7      45.3  52826.7             95.8   \n",
       "3  2000            5  22782.6     557.5      46.2  43941.3             92.5   \n",
       "4  2000            6  32245.0    1216.3      43.8  61455.3             95.7   \n",
       "\n",
       "   foodstmp_2_freq  sex_2_freq  sex_1_freq  ...  empstat_3.0_freq  \\\n",
       "0              6.4        54.0        46.0  ...              38.4   \n",
       "1              4.7        50.3        49.7  ...              25.2   \n",
       "2              4.2        52.1        47.9  ...              38.3   \n",
       "3              7.5        53.0        47.0  ...              37.8   \n",
       "4              4.3        52.0        48.0  ...              35.1   \n",
       "\n",
       "   empstat_2.0_freq  state_po  county_name  democrat  green  liberitarian  \\\n",
       "0               3.2       NaN          NaN       NaN    NaN           NaN   \n",
       "1               4.8       NaN          NaN       NaN    NaN           NaN   \n",
       "2               3.2       NaN          NaN       NaN    NaN           NaN   \n",
       "3               3.2       NaN          NaN       NaN    NaN           NaN   \n",
       "4               3.6       NaN          NaN       NaN    NaN           NaN   \n",
       "\n",
       "   other  republican  winner  \n",
       "0    NaN         NaN     NaN  \n",
       "1    NaN         NaN     NaN  \n",
       "2    NaN         NaN     NaN  \n",
       "3    NaN         NaN     NaN  \n",
       "4    NaN         NaN     NaN  \n",
       "\n",
       "[5 rows x 45 columns]"
      ]
     },
     "execution_count": 3,
     "metadata": {},
     "output_type": "execute_result"
    }
   ],
   "source": [
    "census_raw.head()"
   ]
  },
  {
   "cell_type": "code",
   "execution_count": 7,
   "id": "f321ae47",
   "metadata": {},
   "outputs": [],
   "source": [
    "race_chinese = census_raw.groupby(by=['year'])['race_4_freq'].mean().reset_index()"
   ]
  },
  {
   "cell_type": "code",
   "execution_count": 9,
   "id": "108e81ee",
   "metadata": {},
   "outputs": [
    {
     "data": {
      "text/plain": [
       "year             int64\n",
       "race_4_freq    float64\n",
       "dtype: object"
      ]
     },
     "execution_count": 9,
     "metadata": {},
     "output_type": "execute_result"
    }
   ],
   "source": [
    "race_chinese.dtypes"
   ]
  },
  {
   "cell_type": "code",
   "execution_count": 11,
   "id": "0765c3e7",
   "metadata": {},
   "outputs": [],
   "source": [
    "race_japanese = census_raw.groupby(by=['year'])['race_5_freq'].mean().reset_index()"
   ]
  },
  {
   "cell_type": "code",
   "execution_count": 12,
   "id": "14592b42",
   "metadata": {},
   "outputs": [
    {
     "data": {
      "text/html": [
       "<div>\n",
       "<style scoped>\n",
       "    .dataframe tbody tr th:only-of-type {\n",
       "        vertical-align: middle;\n",
       "    }\n",
       "\n",
       "    .dataframe tbody tr th {\n",
       "        vertical-align: top;\n",
       "    }\n",
       "\n",
       "    .dataframe thead th {\n",
       "        text-align: right;\n",
       "    }\n",
       "</style>\n",
       "<table border=\"1\" class=\"dataframe\">\n",
       "  <thead>\n",
       "    <tr style=\"text-align: right;\">\n",
       "      <th></th>\n",
       "      <th>year</th>\n",
       "      <th>race_5_freq</th>\n",
       "    </tr>\n",
       "  </thead>\n",
       "  <tbody>\n",
       "    <tr>\n",
       "      <th>0</th>\n",
       "      <td>2000</td>\n",
       "      <td>0.639216</td>\n",
       "    </tr>\n",
       "    <tr>\n",
       "      <th>1</th>\n",
       "      <td>2001</td>\n",
       "      <td>0.601961</td>\n",
       "    </tr>\n",
       "    <tr>\n",
       "      <th>2</th>\n",
       "      <td>2002</td>\n",
       "      <td>0.625490</td>\n",
       "    </tr>\n",
       "    <tr>\n",
       "      <th>3</th>\n",
       "      <td>2003</td>\n",
       "      <td>0.611765</td>\n",
       "    </tr>\n",
       "    <tr>\n",
       "      <th>4</th>\n",
       "      <td>2004</td>\n",
       "      <td>0.609804</td>\n",
       "    </tr>\n",
       "    <tr>\n",
       "      <th>5</th>\n",
       "      <td>2005</td>\n",
       "      <td>0.304471</td>\n",
       "    </tr>\n",
       "    <tr>\n",
       "      <th>6</th>\n",
       "      <td>2006</td>\n",
       "      <td>0.301415</td>\n",
       "    </tr>\n",
       "    <tr>\n",
       "      <th>7</th>\n",
       "      <td>2007</td>\n",
       "      <td>0.296226</td>\n",
       "    </tr>\n",
       "    <tr>\n",
       "      <th>8</th>\n",
       "      <td>2008</td>\n",
       "      <td>0.247406</td>\n",
       "    </tr>\n",
       "    <tr>\n",
       "      <th>9</th>\n",
       "      <td>2009</td>\n",
       "      <td>0.278066</td>\n",
       "    </tr>\n",
       "    <tr>\n",
       "      <th>10</th>\n",
       "      <td>2010</td>\n",
       "      <td>0.270755</td>\n",
       "    </tr>\n",
       "    <tr>\n",
       "      <th>11</th>\n",
       "      <td>2011</td>\n",
       "      <td>0.265330</td>\n",
       "    </tr>\n",
       "    <tr>\n",
       "      <th>12</th>\n",
       "      <td>2012</td>\n",
       "      <td>0.246653</td>\n",
       "    </tr>\n",
       "    <tr>\n",
       "      <th>13</th>\n",
       "      <td>2013</td>\n",
       "      <td>0.251255</td>\n",
       "    </tr>\n",
       "    <tr>\n",
       "      <th>14</th>\n",
       "      <td>2014</td>\n",
       "      <td>0.233473</td>\n",
       "    </tr>\n",
       "    <tr>\n",
       "      <th>15</th>\n",
       "      <td>2015</td>\n",
       "      <td>0.228661</td>\n",
       "    </tr>\n",
       "    <tr>\n",
       "      <th>16</th>\n",
       "      <td>2016</td>\n",
       "      <td>0.235356</td>\n",
       "    </tr>\n",
       "    <tr>\n",
       "      <th>17</th>\n",
       "      <td>2017</td>\n",
       "      <td>0.231172</td>\n",
       "    </tr>\n",
       "    <tr>\n",
       "      <th>18</th>\n",
       "      <td>2018</td>\n",
       "      <td>0.229289</td>\n",
       "    </tr>\n",
       "    <tr>\n",
       "      <th>19</th>\n",
       "      <td>2019</td>\n",
       "      <td>0.221130</td>\n",
       "    </tr>\n",
       "    <tr>\n",
       "      <th>20</th>\n",
       "      <td>2020</td>\n",
       "      <td>0.228661</td>\n",
       "    </tr>\n",
       "  </tbody>\n",
       "</table>\n",
       "</div>"
      ],
      "text/plain": [
       "    year  race_5_freq\n",
       "0   2000     0.639216\n",
       "1   2001     0.601961\n",
       "2   2002     0.625490\n",
       "3   2003     0.611765\n",
       "4   2004     0.609804\n",
       "5   2005     0.304471\n",
       "6   2006     0.301415\n",
       "7   2007     0.296226\n",
       "8   2008     0.247406\n",
       "9   2009     0.278066\n",
       "10  2010     0.270755\n",
       "11  2011     0.265330\n",
       "12  2012     0.246653\n",
       "13  2013     0.251255\n",
       "14  2014     0.233473\n",
       "15  2015     0.228661\n",
       "16  2016     0.235356\n",
       "17  2017     0.231172\n",
       "18  2018     0.229289\n",
       "19  2019     0.221130\n",
       "20  2020     0.228661"
      ]
     },
     "execution_count": 12,
     "metadata": {},
     "output_type": "execute_result"
    }
   ],
   "source": [
    "race_japanese"
   ]
  },
  {
   "cell_type": "markdown",
   "id": "dd12d438",
   "metadata": {},
   "source": [
    "### Average Chinese voter in percentage over year"
   ]
  },
  {
   "cell_type": "code",
   "execution_count": 17,
   "id": "b79ff598",
   "metadata": {},
   "outputs": [
    {
     "data": {
      "text/plain": [
       "<AxesSubplot:xlabel='year', ylabel='race_4_freq'>"
      ]
     },
     "execution_count": 17,
     "metadata": {},
     "output_type": "execute_result"
    },
    {
     "data": {
      "image/png": "[encoded data removed]",
      "text/plain": [
       "<Figure size 432x288 with 1 Axes>"
      ]
     },
     "metadata": {
      "needs_background": "light"
     },
     "output_type": "display_data"
    }
   ],
   "source": [
    "sns.lineplot(data=race_chinese,x='year',y='race_4_freq')"
   ]
  },
  {
   "cell_type": "markdown",
   "id": "c9fbba48",
   "metadata": {},
   "source": [
    "### Average japanese voter in percentage over year"
   ]
  },
  {
   "cell_type": "code",
   "execution_count": 18,
   "id": "49a7503b",
   "metadata": {},
   "outputs": [
    {
     "data": {
      "text/plain": [
       "<AxesSubplot:xlabel='year', ylabel='race_5_freq'>"
      ]
     },
     "execution_count": 18,
     "metadata": {},
     "output_type": "execute_result"
    },
    {
     "data": {
      "image/png": "[encoded data removed]",
      "text/plain": [
       "<Figure size 432x288 with 1 Axes>"
      ]
     },
     "metadata": {
      "needs_background": "light"
     },
     "output_type": "display_data"
    }
   ],
   "source": [
    "sns.lineplot(data=race_japanese,x='year',y='race_5_freq')"
   ]
  },
  {
   "cell_type": "markdown",
   "id": "00e3cf9e",
   "metadata": {},
   "source": [
    "### Average percentage of english is spoken at home over the year"
   ]
  },
  {
   "cell_type": "code",
   "execution_count": 87,
   "id": "a28d2d47",
   "metadata": {},
   "outputs": [],
   "source": [
    "lang_1 = census_raw.groupby(by=['year','county_fips'])['lang_1_freq'].mean().reset_index()"
   ]
  },
  {
   "cell_type": "code",
   "execution_count": 88,
   "id": "2b127b11",
   "metadata": {},
   "outputs": [
    {
     "data": {
      "text/plain": [
       "<AxesSubplot:xlabel='year', ylabel='lang_1_freq'>"
      ]
     },
     "execution_count": 88,
     "metadata": {},
     "output_type": "execute_result"
    },
    {
     "data": {
      "image/png": "[encoded data removed]",
      "text/plain": [
       "<Figure size 432x288 with 1 Axes>"
      ]
     },
     "metadata": {
      "needs_background": "light"
     },
     "output_type": "display_data"
    }
   ],
   "source": [
    "sns.lineplot(data=lang_1,x='year',y='lang_1_freq')"
   ]
  },
  {
   "cell_type": "markdown",
   "id": "7ae97bfe",
   "metadata": {},
   "source": [
    "### Average percentage of other language is spoken at home over the year"
   ]
  },
  {
   "cell_type": "code",
   "execution_count": 81,
   "id": "7738c77e",
   "metadata": {},
   "outputs": [],
   "source": [
    "lang_2 = census_raw.groupby(by=['year','county_fips'])['lang_2_freq'].mean().reset_index()"
   ]
  },
  {
   "cell_type": "code",
   "execution_count": 82,
   "id": "d2a6b148",
   "metadata": {},
   "outputs": [
    {
     "data": {
      "text/plain": [
       "<AxesSubplot:xlabel='year', ylabel='lang_2_freq'>"
      ]
     },
     "execution_count": 82,
     "metadata": {},
     "output_type": "execute_result"
    },
    {
     "data": {
      "image/png": "[encoded data removed]",
      "text/plain": [
       "<Figure size 432x288 with 1 Axes>"
      ]
     },
     "metadata": {
      "needs_background": "light"
     },
     "output_type": "display_data"
    }
   ],
   "source": [
    "sns.lineplot(data=lang_2,x='year',y='lang_2_freq')"
   ]
  },
  {
   "cell_type": "markdown",
   "id": "b4f59cc2",
   "metadata": {},
   "source": [
    "### Camperison of race other than white race with each other "
   ]
  },
  {
   "cell_type": "code",
   "execution_count": 83,
   "id": "baf68573",
   "metadata": {},
   "outputs": [
    {
     "name": "stderr",
     "output_type": "stream",
     "text": [
      "C:\\Users\\ramas\\AppData\\Local\\Temp\\ipykernel_13296\\3612249653.py:1: FutureWarning: Indexing with multiple keys (implicitly converted to a tuple of keys) will be deprecated, use a list instead.\n",
      "  race = census_raw.groupby(by=['year'])['race_1_freq','race_2_freq','race_3_freq','race_4_freq','race_5_freq','race_6_freq','race_7_freq'].mean().reset_index()\n"
     ]
    }
   ],
   "source": [
    "race = census_raw.groupby(by=['year'])['race_1_freq','race_2_freq','race_3_freq','race_4_freq','race_5_freq','race_6_freq','race_7_freq'].mean().reset_index()"
   ]
  },
  {
   "cell_type": "code",
   "execution_count": 84,
   "id": "b70a5d69",
   "metadata": {},
   "outputs": [],
   "source": [
    "race.drop(['year'],inplace=True,axis=1)"
   ]
  },
  {
   "cell_type": "code",
   "execution_count": 85,
   "id": "b5e6899f",
   "metadata": {},
   "outputs": [],
   "source": [
    "race.drop(['race_1_freq'],inplace=True,axis=1)"
   ]
  },
  {
   "cell_type": "code",
   "execution_count": 86,
   "id": "96249ff1",
   "metadata": {},
   "outputs": [
    {
     "data": {
      "text/plain": [
       "<AxesSubplot:>"
      ]
     },
     "execution_count": 86,
     "metadata": {},
     "output_type": "execute_result"
    },
    {
     "data": {
      "image/png": "[encoded data removed]",
      "text/plain": [
       "<Figure size 432x288 with 1 Axes>"
      ]
     },
     "metadata": {
      "needs_background": "light"
     },
     "output_type": "display_data"
    }
   ],
   "source": [
    "sns.lineplot(data=race)"
   ]
  },
  {
   "cell_type": "markdown",
   "id": "cf0589a3",
   "metadata": {},
   "source": [
    "### Average Annual Income of Individuals over the year"
   ]
  },
  {
   "cell_type": "code",
   "execution_count": 75,
   "id": "a527ca62",
   "metadata": {},
   "outputs": [],
   "source": [
    "inctot = census_raw.groupby(by=['year','county_fips'])['inctot'].mean().reset_index()"
   ]
  },
  {
   "cell_type": "code",
   "execution_count": 76,
   "id": "79812a88",
   "metadata": {},
   "outputs": [
    {
     "data": {
      "text/plain": [
       "<AxesSubplot:xlabel='year', ylabel='inctot'>"
      ]
     },
     "execution_count": 76,
     "metadata": {},
     "output_type": "execute_result"
    },
    {
     "data": {
      "image/png": "[encoded data removed]",
      "text/plain": [
       "<Figure size 432x288 with 1 Axes>"
      ]
     },
     "metadata": {
      "needs_background": "light"
     },
     "output_type": "display_data"
    }
   ],
   "source": [
    "sns.lineplot(data=inctot,x='year',y='inctot')"
   ]
  },
  {
   "cell_type": "markdown",
   "id": "ed299e96",
   "metadata": {},
   "source": [
    "### Average Annual Total Family Income over the year"
   ]
  },
  {
   "cell_type": "code",
   "execution_count": 73,
   "id": "fa5d025d",
   "metadata": {},
   "outputs": [],
   "source": [
    "ftotinc = census_raw.groupby(by=['year','county_fips'])['ftotinc'].mean().reset_index()"
   ]
  },
  {
   "cell_type": "code",
   "execution_count": 74,
   "id": "dd5aa545",
   "metadata": {},
   "outputs": [
    {
     "data": {
      "text/plain": [
       "<AxesSubplot:xlabel='year', ylabel='ftotinc'>"
      ]
     },
     "execution_count": 74,
     "metadata": {},
     "output_type": "execute_result"
    },
    {
     "data": {
      "image/png": "[encoded data removed]",
      "text/plain": [
       "<Figure size 432x288 with 1 Axes>"
      ]
     },
     "metadata": {
      "needs_background": "light"
     },
     "output_type": "display_data"
    }
   ],
   "source": [
    "sns.lineplot(data=ftotinc,x='year',y='ftotinc')"
   ]
  },
  {
   "cell_type": "markdown",
   "id": "95314193",
   "metadata": {},
   "source": [
    "### Top three year of  Average Annual Total Family Income"
   ]
  },
  {
   "cell_type": "code",
   "execution_count": 101,
   "id": "d82ef0d6",
   "metadata": {},
   "outputs": [],
   "source": [
    "m_f = census_raw.groupby(by=['year'])['ftotinc'].mean().sort_values(ascending=False).reset_index()"
   ]
  },
  {
   "cell_type": "code",
   "execution_count": 106,
   "id": "fed56275",
   "metadata": {},
   "outputs": [
    {
     "data": {
      "text/html": [
       "<div>\n",
       "<style scoped>\n",
       "    .dataframe tbody tr th:only-of-type {\n",
       "        vertical-align: middle;\n",
       "    }\n",
       "\n",
       "    .dataframe tbody tr th {\n",
       "        vertical-align: top;\n",
       "    }\n",
       "\n",
       "    .dataframe thead th {\n",
       "        text-align: right;\n",
       "    }\n",
       "</style>\n",
       "<table border=\"1\" class=\"dataframe\">\n",
       "  <thead>\n",
       "    <tr style=\"text-align: right;\">\n",
       "      <th></th>\n",
       "      <th>year</th>\n",
       "      <th>ftotinc</th>\n",
       "    </tr>\n",
       "  </thead>\n",
       "  <tbody>\n",
       "    <tr>\n",
       "      <th>0</th>\n",
       "      <td>2020</td>\n",
       "      <td>62948.617992</td>\n",
       "    </tr>\n",
       "    <tr>\n",
       "      <th>1</th>\n",
       "      <td>2019</td>\n",
       "      <td>61784.873222</td>\n",
       "    </tr>\n",
       "    <tr>\n",
       "      <th>2</th>\n",
       "      <td>2018</td>\n",
       "      <td>59696.640795</td>\n",
       "    </tr>\n",
       "  </tbody>\n",
       "</table>\n",
       "</div>"
      ],
      "text/plain": [
       "   year       ftotinc\n",
       "0  2020  62948.617992\n",
       "1  2019  61784.873222\n",
       "2  2018  59696.640795"
      ]
     },
     "execution_count": 106,
     "metadata": {},
     "output_type": "execute_result"
    }
   ],
   "source": [
    "m_f.iloc[:3]"
   ]
  },
  {
   "cell_type": "code",
   "execution_count": null,
   "id": "1204111d",
   "metadata": {},
   "outputs": [],
   "source": []
  }
 ],
 "metadata": {
  "kernelspec": {
   "display_name": "Python 3 (ipykernel)",
   "language": "python",
   "name": "python3"
  },
  "language_info": {
   "codemirror_mode": {
    "name": "ipython",
    "version": 3
   },
   "file_extension": ".py",
   "mimetype": "text/x-python",
   "name": "python",
   "nbconvert_exporter": "python",
   "pygments_lexer": "ipython3",
   "version": "3.9.12"
  }
 },
 "nbformat": 4,
 "nbformat_minor": 5
}
