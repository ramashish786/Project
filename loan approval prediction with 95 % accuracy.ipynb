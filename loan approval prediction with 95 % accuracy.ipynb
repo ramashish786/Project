{
 "cells": [
  {
   "cell_type": "markdown",
   "id": "d43692b8",
   "metadata": {},
   "source": [
    "Here we will downlaod all the library and package that need in this project"
   ]
  },
  {
   "cell_type": "code",
   "execution_count": 85,
   "id": "ccaa52e6",
   "metadata": {},
   "outputs": [],
   "source": [
    "import pandas as pd\n",
    "import numpy as np\n",
    "from sklearn import svm\n",
    "import matplotlib.pyplot as plt\n",
    "import seaborn as sns\n",
    "from sklearn.model_selection import train_test_split"
   ]
  },
  {
   "cell_type": "code",
   "execution_count": 71,
   "id": "4e3198c3",
   "metadata": {},
   "outputs": [],
   "source": [
    "loan_raw_df = pd.read_csv('../Data files/loan_approval_dataset.csv')"
   ]
  },
  {
   "cell_type": "code",
   "execution_count": 72,
   "id": "1e28d896",
   "metadata": {},
   "outputs": [
    {
     "data": {
      "text/html": [
       "<div>\n",
       "<style scoped>\n",
       "    .dataframe tbody tr th:only-of-type {\n",
       "        vertical-align: middle;\n",
       "    }\n",
       "\n",
       "    .dataframe tbody tr th {\n",
       "        vertical-align: top;\n",
       "    }\n",
       "\n",
       "    .dataframe thead th {\n",
       "        text-align: right;\n",
       "    }\n",
       "</style>\n",
       "<table border=\"1\" class=\"dataframe\">\n",
       "  <thead>\n",
       "    <tr style=\"text-align: right;\">\n",
       "      <th></th>\n",
       "      <th>loan_id</th>\n",
       "      <th>no_of_dependents</th>\n",
       "      <th>education</th>\n",
       "      <th>self_employed</th>\n",
       "      <th>income_annum</th>\n",
       "      <th>loan_amount</th>\n",
       "      <th>loan_term</th>\n",
       "      <th>cibil_score</th>\n",
       "      <th>residential_assets_value</th>\n",
       "      <th>commercial_assets_value</th>\n",
       "      <th>luxury_assets_value</th>\n",
       "      <th>bank_asset_value</th>\n",
       "      <th>loan_status</th>\n",
       "    </tr>\n",
       "  </thead>\n",
       "  <tbody>\n",
       "    <tr>\n",
       "      <th>0</th>\n",
       "      <td>1</td>\n",
       "      <td>2</td>\n",
       "      <td>Graduate</td>\n",
       "      <td>No</td>\n",
       "      <td>9600000</td>\n",
       "      <td>29900000</td>\n",
       "      <td>12</td>\n",
       "      <td>778</td>\n",
       "      <td>2400000</td>\n",
       "      <td>17600000</td>\n",
       "      <td>22700000</td>\n",
       "      <td>8000000</td>\n",
       "      <td>Approved</td>\n",
       "    </tr>\n",
       "    <tr>\n",
       "      <th>1</th>\n",
       "      <td>2</td>\n",
       "      <td>0</td>\n",
       "      <td>Not Graduate</td>\n",
       "      <td>Yes</td>\n",
       "      <td>4100000</td>\n",
       "      <td>12200000</td>\n",
       "      <td>8</td>\n",
       "      <td>417</td>\n",
       "      <td>2700000</td>\n",
       "      <td>2200000</td>\n",
       "      <td>8800000</td>\n",
       "      <td>3300000</td>\n",
       "      <td>Rejected</td>\n",
       "    </tr>\n",
       "    <tr>\n",
       "      <th>2</th>\n",
       "      <td>3</td>\n",
       "      <td>3</td>\n",
       "      <td>Graduate</td>\n",
       "      <td>No</td>\n",
       "      <td>9100000</td>\n",
       "      <td>29700000</td>\n",
       "      <td>20</td>\n",
       "      <td>506</td>\n",
       "      <td>7100000</td>\n",
       "      <td>4500000</td>\n",
       "      <td>33300000</td>\n",
       "      <td>12800000</td>\n",
       "      <td>Rejected</td>\n",
       "    </tr>\n",
       "    <tr>\n",
       "      <th>3</th>\n",
       "      <td>4</td>\n",
       "      <td>3</td>\n",
       "      <td>Graduate</td>\n",
       "      <td>No</td>\n",
       "      <td>8200000</td>\n",
       "      <td>30700000</td>\n",
       "      <td>8</td>\n",
       "      <td>467</td>\n",
       "      <td>18200000</td>\n",
       "      <td>3300000</td>\n",
       "      <td>23300000</td>\n",
       "      <td>7900000</td>\n",
       "      <td>Rejected</td>\n",
       "    </tr>\n",
       "    <tr>\n",
       "      <th>4</th>\n",
       "      <td>5</td>\n",
       "      <td>5</td>\n",
       "      <td>Not Graduate</td>\n",
       "      <td>Yes</td>\n",
       "      <td>9800000</td>\n",
       "      <td>24200000</td>\n",
       "      <td>20</td>\n",
       "      <td>382</td>\n",
       "      <td>12400000</td>\n",
       "      <td>8200000</td>\n",
       "      <td>29400000</td>\n",
       "      <td>5000000</td>\n",
       "      <td>Rejected</td>\n",
       "    </tr>\n",
       "  </tbody>\n",
       "</table>\n",
       "</div>"
      ],
      "text/plain": [
       "   loan_id   no_of_dependents      education  self_employed   income_annum  \\\n",
       "0        1                  2       Graduate             No        9600000   \n",
       "1        2                  0   Not Graduate            Yes        4100000   \n",
       "2        3                  3       Graduate             No        9100000   \n",
       "3        4                  3       Graduate             No        8200000   \n",
       "4        5                  5   Not Graduate            Yes        9800000   \n",
       "\n",
       "    loan_amount   loan_term   cibil_score   residential_assets_value  \\\n",
       "0      29900000          12           778                    2400000   \n",
       "1      12200000           8           417                    2700000   \n",
       "2      29700000          20           506                    7100000   \n",
       "3      30700000           8           467                   18200000   \n",
       "4      24200000          20           382                   12400000   \n",
       "\n",
       "    commercial_assets_value   luxury_assets_value   bank_asset_value  \\\n",
       "0                  17600000              22700000            8000000   \n",
       "1                   2200000               8800000            3300000   \n",
       "2                   4500000              33300000           12800000   \n",
       "3                   3300000              23300000            7900000   \n",
       "4                   8200000              29400000            5000000   \n",
       "\n",
       "   loan_status  \n",
       "0     Approved  \n",
       "1     Rejected  \n",
       "2     Rejected  \n",
       "3     Rejected  \n",
       "4     Rejected  "
      ]
     },
     "execution_count": 72,
     "metadata": {},
     "output_type": "execute_result"
    }
   ],
   "source": [
    "loan_raw_df.head()"
   ]
  },
  {
   "cell_type": "code",
   "execution_count": 73,
   "id": "369b634a",
   "metadata": {},
   "outputs": [
    {
     "data": {
      "text/plain": [
       "Index(['loan_id', ' no_of_dependents', ' education', ' self_employed',\n",
       "       ' income_annum', ' loan_amount', ' loan_term', ' cibil_score',\n",
       "       ' residential_assets_value', ' commercial_assets_value',\n",
       "       ' luxury_assets_value', ' bank_asset_value', ' loan_status'],\n",
       "      dtype='object')"
      ]
     },
     "execution_count": 73,
     "metadata": {},
     "output_type": "execute_result"
    }
   ],
   "source": [
    "loan_raw_df.columns"
   ]
  },
  {
   "cell_type": "markdown",
   "id": "c305c164",
   "metadata": {},
   "source": [
    "We can see that columns have some space in their name which is not convenient to use . So we will strip the space in columns name"
   ]
  },
  {
   "cell_type": "code",
   "execution_count": 74,
   "id": "7906b945",
   "metadata": {},
   "outputs": [],
   "source": [
    " loan_raw_df.columns = loan_raw_df.columns.str.strip()"
   ]
  },
  {
   "cell_type": "code",
   "execution_count": 75,
   "id": "8d34edac",
   "metadata": {},
   "outputs": [
    {
     "data": {
      "text/plain": [
       "Index(['loan_id', 'no_of_dependents', 'education', 'self_employed',\n",
       "       'income_annum', 'loan_amount', 'loan_term', 'cibil_score',\n",
       "       'residential_assets_value', 'commercial_assets_value',\n",
       "       'luxury_assets_value', 'bank_asset_value', 'loan_status'],\n",
       "      dtype='object')"
      ]
     },
     "execution_count": 75,
     "metadata": {},
     "output_type": "execute_result"
    }
   ],
   "source": [
    " loan_raw_df.columns"
   ]
  },
  {
   "cell_type": "markdown",
   "id": "3d850171",
   "metadata": {},
   "source": [
    "Now there is no space in column name "
   ]
  },
  {
   "cell_type": "markdown",
   "id": "1da06658",
   "metadata": {},
   "source": [
    "After careful observation I have found that the value in columns education , self_employed and loan_status have space that need to strip as well"
   ]
  },
  {
   "cell_type": "code",
   "execution_count": 76,
   "id": "c4c3dc66",
   "metadata": {},
   "outputs": [],
   "source": [
    "loan_raw_df['education'] = loan_raw_df['education'].str.strip()"
   ]
  },
  {
   "cell_type": "code",
   "execution_count": 77,
   "id": "29b9269a",
   "metadata": {},
   "outputs": [],
   "source": [
    "loan_raw_df['self_employed'] = loan_raw_df['self_employed'].str.strip()"
   ]
  },
  {
   "cell_type": "code",
   "execution_count": 78,
   "id": "9874be62",
   "metadata": {},
   "outputs": [],
   "source": [
    "loan_raw_df['loan_status'] = loan_raw_df['loan_status'].str.strip()"
   ]
  },
  {
   "cell_type": "markdown",
   "id": "9741622d",
   "metadata": {},
   "source": [
    "Machine learning algorithms are good at handing categorical data in string format so we need to replace it with numerical values."
   ]
  },
  {
   "cell_type": "code",
   "execution_count": 79,
   "id": "663542cf",
   "metadata": {},
   "outputs": [],
   "source": [
    "loan_raw_df['education'] = loan_raw_df['education'].map({\n",
    "    'Not Graduate':0,'Graduate':1\n",
    "})"
   ]
  },
  {
   "cell_type": "code",
   "execution_count": 80,
   "id": "ae825f7c",
   "metadata": {},
   "outputs": [],
   "source": [
    "  loan_raw_df['self_employed'] = loan_raw_df['self_employed'].map({\n",
    "    'Yes':1 , 'No': 0\n",
    "})"
   ]
  },
  {
   "cell_type": "code",
   "execution_count": 81,
   "id": "f8e73c89",
   "metadata": {},
   "outputs": [],
   "source": [
    "loan_raw_df['loan_status'] = loan_raw_df['loan_status'].map({\n",
    "    'Approved':1 , 'Rejected': 0\n",
    "})"
   ]
  },
  {
   "cell_type": "code",
   "execution_count": 82,
   "id": "845f9d01",
   "metadata": {},
   "outputs": [
    {
     "data": {
      "text/html": [
       "<div>\n",
       "<style scoped>\n",
       "    .dataframe tbody tr th:only-of-type {\n",
       "        vertical-align: middle;\n",
       "    }\n",
       "\n",
       "    .dataframe tbody tr th {\n",
       "        vertical-align: top;\n",
       "    }\n",
       "\n",
       "    .dataframe thead th {\n",
       "        text-align: right;\n",
       "    }\n",
       "</style>\n",
       "<table border=\"1\" class=\"dataframe\">\n",
       "  <thead>\n",
       "    <tr style=\"text-align: right;\">\n",
       "      <th></th>\n",
       "      <th>loan_id</th>\n",
       "      <th>no_of_dependents</th>\n",
       "      <th>education</th>\n",
       "      <th>self_employed</th>\n",
       "      <th>income_annum</th>\n",
       "      <th>loan_amount</th>\n",
       "      <th>loan_term</th>\n",
       "      <th>cibil_score</th>\n",
       "      <th>residential_assets_value</th>\n",
       "      <th>commercial_assets_value</th>\n",
       "      <th>luxury_assets_value</th>\n",
       "      <th>bank_asset_value</th>\n",
       "      <th>loan_status</th>\n",
       "    </tr>\n",
       "  </thead>\n",
       "  <tbody>\n",
       "    <tr>\n",
       "      <th>0</th>\n",
       "      <td>1</td>\n",
       "      <td>2</td>\n",
       "      <td>1</td>\n",
       "      <td>0</td>\n",
       "      <td>9600000</td>\n",
       "      <td>29900000</td>\n",
       "      <td>12</td>\n",
       "      <td>778</td>\n",
       "      <td>2400000</td>\n",
       "      <td>17600000</td>\n",
       "      <td>22700000</td>\n",
       "      <td>8000000</td>\n",
       "      <td>1</td>\n",
       "    </tr>\n",
       "    <tr>\n",
       "      <th>1</th>\n",
       "      <td>2</td>\n",
       "      <td>0</td>\n",
       "      <td>0</td>\n",
       "      <td>1</td>\n",
       "      <td>4100000</td>\n",
       "      <td>12200000</td>\n",
       "      <td>8</td>\n",
       "      <td>417</td>\n",
       "      <td>2700000</td>\n",
       "      <td>2200000</td>\n",
       "      <td>8800000</td>\n",
       "      <td>3300000</td>\n",
       "      <td>0</td>\n",
       "    </tr>\n",
       "    <tr>\n",
       "      <th>2</th>\n",
       "      <td>3</td>\n",
       "      <td>3</td>\n",
       "      <td>1</td>\n",
       "      <td>0</td>\n",
       "      <td>9100000</td>\n",
       "      <td>29700000</td>\n",
       "      <td>20</td>\n",
       "      <td>506</td>\n",
       "      <td>7100000</td>\n",
       "      <td>4500000</td>\n",
       "      <td>33300000</td>\n",
       "      <td>12800000</td>\n",
       "      <td>0</td>\n",
       "    </tr>\n",
       "    <tr>\n",
       "      <th>3</th>\n",
       "      <td>4</td>\n",
       "      <td>3</td>\n",
       "      <td>1</td>\n",
       "      <td>0</td>\n",
       "      <td>8200000</td>\n",
       "      <td>30700000</td>\n",
       "      <td>8</td>\n",
       "      <td>467</td>\n",
       "      <td>18200000</td>\n",
       "      <td>3300000</td>\n",
       "      <td>23300000</td>\n",
       "      <td>7900000</td>\n",
       "      <td>0</td>\n",
       "    </tr>\n",
       "    <tr>\n",
       "      <th>4</th>\n",
       "      <td>5</td>\n",
       "      <td>5</td>\n",
       "      <td>0</td>\n",
       "      <td>1</td>\n",
       "      <td>9800000</td>\n",
       "      <td>24200000</td>\n",
       "      <td>20</td>\n",
       "      <td>382</td>\n",
       "      <td>12400000</td>\n",
       "      <td>8200000</td>\n",
       "      <td>29400000</td>\n",
       "      <td>5000000</td>\n",
       "      <td>0</td>\n",
       "    </tr>\n",
       "  </tbody>\n",
       "</table>\n",
       "</div>"
      ],
      "text/plain": [
       "   loan_id  no_of_dependents  education  self_employed  income_annum  \\\n",
       "0        1                 2          1              0       9600000   \n",
       "1        2                 0          0              1       4100000   \n",
       "2        3                 3          1              0       9100000   \n",
       "3        4                 3          1              0       8200000   \n",
       "4        5                 5          0              1       9800000   \n",
       "\n",
       "   loan_amount  loan_term  cibil_score  residential_assets_value  \\\n",
       "0     29900000         12          778                   2400000   \n",
       "1     12200000          8          417                   2700000   \n",
       "2     29700000         20          506                   7100000   \n",
       "3     30700000          8          467                  18200000   \n",
       "4     24200000         20          382                  12400000   \n",
       "\n",
       "   commercial_assets_value  luxury_assets_value  bank_asset_value  loan_status  \n",
       "0                 17600000             22700000           8000000            1  \n",
       "1                  2200000              8800000           3300000            0  \n",
       "2                  4500000             33300000          12800000            0  \n",
       "3                  3300000             23300000           7900000            0  \n",
       "4                  8200000             29400000           5000000            0  "
      ]
     },
     "execution_count": 82,
     "metadata": {},
     "output_type": "execute_result"
    }
   ],
   "source": [
    "loan_raw_df.head()"
   ]
  },
  {
   "cell_type": "markdown",
   "id": "58815c3f",
   "metadata": {},
   "source": [
    "##### "
   ]
  },
  {
   "cell_type": "code",
   "execution_count": 86,
   "id": "2ca3d69e",
   "metadata": {},
   "outputs": [
    {
     "data": {
      "text/html": [
       "<div>\n",
       "<style scoped>\n",
       "    .dataframe tbody tr th:only-of-type {\n",
       "        vertical-align: middle;\n",
       "    }\n",
       "\n",
       "    .dataframe tbody tr th {\n",
       "        vertical-align: top;\n",
       "    }\n",
       "\n",
       "    .dataframe thead th {\n",
       "        text-align: right;\n",
       "    }\n",
       "</style>\n",
       "<table border=\"1\" class=\"dataframe\">\n",
       "  <thead>\n",
       "    <tr style=\"text-align: right;\">\n",
       "      <th></th>\n",
       "      <th>loan_id</th>\n",
       "      <th>no_of_dependents</th>\n",
       "      <th>education</th>\n",
       "      <th>self_employed</th>\n",
       "      <th>income_annum</th>\n",
       "      <th>loan_amount</th>\n",
       "      <th>loan_term</th>\n",
       "      <th>cibil_score</th>\n",
       "      <th>residential_assets_value</th>\n",
       "      <th>commercial_assets_value</th>\n",
       "      <th>luxury_assets_value</th>\n",
       "      <th>bank_asset_value</th>\n",
       "      <th>loan_status</th>\n",
       "    </tr>\n",
       "  </thead>\n",
       "  <tbody>\n",
       "    <tr>\n",
       "      <th>loan_id</th>\n",
       "      <td>1.000000</td>\n",
       "      <td>0.005326</td>\n",
       "      <td>0.015536</td>\n",
       "      <td>0.001745</td>\n",
       "      <td>0.012592</td>\n",
       "      <td>0.008170</td>\n",
       "      <td>0.009809</td>\n",
       "      <td>0.016323</td>\n",
       "      <td>0.020936</td>\n",
       "      <td>0.018595</td>\n",
       "      <td>-0.000862</td>\n",
       "      <td>0.010765</td>\n",
       "      <td>0.017685</td>\n",
       "    </tr>\n",
       "    <tr>\n",
       "      <th>no_of_dependents</th>\n",
       "      <td>0.005326</td>\n",
       "      <td>1.000000</td>\n",
       "      <td>0.002697</td>\n",
       "      <td>0.000765</td>\n",
       "      <td>0.007266</td>\n",
       "      <td>-0.003366</td>\n",
       "      <td>-0.020111</td>\n",
       "      <td>-0.009998</td>\n",
       "      <td>0.007376</td>\n",
       "      <td>-0.001531</td>\n",
       "      <td>0.002817</td>\n",
       "      <td>0.011163</td>\n",
       "      <td>-0.018114</td>\n",
       "    </tr>\n",
       "    <tr>\n",
       "      <th>education</th>\n",
       "      <td>0.015536</td>\n",
       "      <td>0.002697</td>\n",
       "      <td>1.000000</td>\n",
       "      <td>-0.023224</td>\n",
       "      <td>0.011625</td>\n",
       "      <td>0.010631</td>\n",
       "      <td>-0.008417</td>\n",
       "      <td>-0.004649</td>\n",
       "      <td>0.010930</td>\n",
       "      <td>-0.006763</td>\n",
       "      <td>0.012471</td>\n",
       "      <td>0.009424</td>\n",
       "      <td>0.004918</td>\n",
       "    </tr>\n",
       "    <tr>\n",
       "      <th>self_employed</th>\n",
       "      <td>0.001745</td>\n",
       "      <td>0.000765</td>\n",
       "      <td>-0.023224</td>\n",
       "      <td>1.000000</td>\n",
       "      <td>0.002368</td>\n",
       "      <td>0.001450</td>\n",
       "      <td>0.004107</td>\n",
       "      <td>-0.004866</td>\n",
       "      <td>0.006144</td>\n",
       "      <td>-0.017998</td>\n",
       "      <td>0.004413</td>\n",
       "      <td>-0.000215</td>\n",
       "      <td>0.000345</td>\n",
       "    </tr>\n",
       "    <tr>\n",
       "      <th>income_annum</th>\n",
       "      <td>0.012592</td>\n",
       "      <td>0.007266</td>\n",
       "      <td>0.011625</td>\n",
       "      <td>0.002368</td>\n",
       "      <td>1.000000</td>\n",
       "      <td>0.927470</td>\n",
       "      <td>0.011488</td>\n",
       "      <td>-0.023034</td>\n",
       "      <td>0.636841</td>\n",
       "      <td>0.640328</td>\n",
       "      <td>0.929145</td>\n",
       "      <td>0.851093</td>\n",
       "      <td>-0.015189</td>\n",
       "    </tr>\n",
       "    <tr>\n",
       "      <th>loan_amount</th>\n",
       "      <td>0.008170</td>\n",
       "      <td>-0.003366</td>\n",
       "      <td>0.010631</td>\n",
       "      <td>0.001450</td>\n",
       "      <td>0.927470</td>\n",
       "      <td>1.000000</td>\n",
       "      <td>0.008437</td>\n",
       "      <td>-0.017035</td>\n",
       "      <td>0.594596</td>\n",
       "      <td>0.603188</td>\n",
       "      <td>0.860914</td>\n",
       "      <td>0.788122</td>\n",
       "      <td>0.016150</td>\n",
       "    </tr>\n",
       "    <tr>\n",
       "      <th>loan_term</th>\n",
       "      <td>0.009809</td>\n",
       "      <td>-0.020111</td>\n",
       "      <td>-0.008417</td>\n",
       "      <td>0.004107</td>\n",
       "      <td>0.011488</td>\n",
       "      <td>0.008437</td>\n",
       "      <td>1.000000</td>\n",
       "      <td>0.007810</td>\n",
       "      <td>0.008016</td>\n",
       "      <td>-0.005478</td>\n",
       "      <td>0.012490</td>\n",
       "      <td>0.017177</td>\n",
       "      <td>-0.113036</td>\n",
       "    </tr>\n",
       "    <tr>\n",
       "      <th>cibil_score</th>\n",
       "      <td>0.016323</td>\n",
       "      <td>-0.009998</td>\n",
       "      <td>-0.004649</td>\n",
       "      <td>-0.004866</td>\n",
       "      <td>-0.023034</td>\n",
       "      <td>-0.017035</td>\n",
       "      <td>0.007810</td>\n",
       "      <td>1.000000</td>\n",
       "      <td>-0.019947</td>\n",
       "      <td>-0.003769</td>\n",
       "      <td>-0.028618</td>\n",
       "      <td>-0.015478</td>\n",
       "      <td>0.770518</td>\n",
       "    </tr>\n",
       "    <tr>\n",
       "      <th>residential_assets_value</th>\n",
       "      <td>0.020936</td>\n",
       "      <td>0.007376</td>\n",
       "      <td>0.010930</td>\n",
       "      <td>0.006144</td>\n",
       "      <td>0.636841</td>\n",
       "      <td>0.594596</td>\n",
       "      <td>0.008016</td>\n",
       "      <td>-0.019947</td>\n",
       "      <td>1.000000</td>\n",
       "      <td>0.414786</td>\n",
       "      <td>0.590932</td>\n",
       "      <td>0.527418</td>\n",
       "      <td>-0.014367</td>\n",
       "    </tr>\n",
       "    <tr>\n",
       "      <th>commercial_assets_value</th>\n",
       "      <td>0.018595</td>\n",
       "      <td>-0.001531</td>\n",
       "      <td>-0.006763</td>\n",
       "      <td>-0.017998</td>\n",
       "      <td>0.640328</td>\n",
       "      <td>0.603188</td>\n",
       "      <td>-0.005478</td>\n",
       "      <td>-0.003769</td>\n",
       "      <td>0.414786</td>\n",
       "      <td>1.000000</td>\n",
       "      <td>0.591128</td>\n",
       "      <td>0.548576</td>\n",
       "      <td>0.008246</td>\n",
       "    </tr>\n",
       "    <tr>\n",
       "      <th>luxury_assets_value</th>\n",
       "      <td>-0.000862</td>\n",
       "      <td>0.002817</td>\n",
       "      <td>0.012471</td>\n",
       "      <td>0.004413</td>\n",
       "      <td>0.929145</td>\n",
       "      <td>0.860914</td>\n",
       "      <td>0.012490</td>\n",
       "      <td>-0.028618</td>\n",
       "      <td>0.590932</td>\n",
       "      <td>0.591128</td>\n",
       "      <td>1.000000</td>\n",
       "      <td>0.788517</td>\n",
       "      <td>-0.015465</td>\n",
       "    </tr>\n",
       "    <tr>\n",
       "      <th>bank_asset_value</th>\n",
       "      <td>0.010765</td>\n",
       "      <td>0.011163</td>\n",
       "      <td>0.009424</td>\n",
       "      <td>-0.000215</td>\n",
       "      <td>0.851093</td>\n",
       "      <td>0.788122</td>\n",
       "      <td>0.017177</td>\n",
       "      <td>-0.015478</td>\n",
       "      <td>0.527418</td>\n",
       "      <td>0.548576</td>\n",
       "      <td>0.788517</td>\n",
       "      <td>1.000000</td>\n",
       "      <td>-0.006778</td>\n",
       "    </tr>\n",
       "    <tr>\n",
       "      <th>loan_status</th>\n",
       "      <td>0.017685</td>\n",
       "      <td>-0.018114</td>\n",
       "      <td>0.004918</td>\n",
       "      <td>0.000345</td>\n",
       "      <td>-0.015189</td>\n",
       "      <td>0.016150</td>\n",
       "      <td>-0.113036</td>\n",
       "      <td>0.770518</td>\n",
       "      <td>-0.014367</td>\n",
       "      <td>0.008246</td>\n",
       "      <td>-0.015465</td>\n",
       "      <td>-0.006778</td>\n",
       "      <td>1.000000</td>\n",
       "    </tr>\n",
       "  </tbody>\n",
       "</table>\n",
       "</div>"
      ],
      "text/plain": [
       "                           loan_id  no_of_dependents  education  \\\n",
       "loan_id                   1.000000          0.005326   0.015536   \n",
       "no_of_dependents          0.005326          1.000000   0.002697   \n",
       "education                 0.015536          0.002697   1.000000   \n",
       "self_employed             0.001745          0.000765  -0.023224   \n",
       "income_annum              0.012592          0.007266   0.011625   \n",
       "loan_amount               0.008170         -0.003366   0.010631   \n",
       "loan_term                 0.009809         -0.020111  -0.008417   \n",
       "cibil_score               0.016323         -0.009998  -0.004649   \n",
       "residential_assets_value  0.020936          0.007376   0.010930   \n",
       "commercial_assets_value   0.018595         -0.001531  -0.006763   \n",
       "luxury_assets_value      -0.000862          0.002817   0.012471   \n",
       "bank_asset_value          0.010765          0.011163   0.009424   \n",
       "loan_status               0.017685         -0.018114   0.004918   \n",
       "\n",
       "                          self_employed  income_annum  loan_amount  loan_term  \\\n",
       "loan_id                        0.001745      0.012592     0.008170   0.009809   \n",
       "no_of_dependents               0.000765      0.007266    -0.003366  -0.020111   \n",
       "education                     -0.023224      0.011625     0.010631  -0.008417   \n",
       "self_employed                  1.000000      0.002368     0.001450   0.004107   \n",
       "income_annum                   0.002368      1.000000     0.927470   0.011488   \n",
       "loan_amount                    0.001450      0.927470     1.000000   0.008437   \n",
       "loan_term                      0.004107      0.011488     0.008437   1.000000   \n",
       "cibil_score                   -0.004866     -0.023034    -0.017035   0.007810   \n",
       "residential_assets_value       0.006144      0.636841     0.594596   0.008016   \n",
       "commercial_assets_value       -0.017998      0.640328     0.603188  -0.005478   \n",
       "luxury_assets_value            0.004413      0.929145     0.860914   0.012490   \n",
       "bank_asset_value              -0.000215      0.851093     0.788122   0.017177   \n",
       "loan_status                    0.000345     -0.015189     0.016150  -0.113036   \n",
       "\n",
       "                          cibil_score  residential_assets_value  \\\n",
       "loan_id                      0.016323                  0.020936   \n",
       "no_of_dependents            -0.009998                  0.007376   \n",
       "education                   -0.004649                  0.010930   \n",
       "self_employed               -0.004866                  0.006144   \n",
       "income_annum                -0.023034                  0.636841   \n",
       "loan_amount                 -0.017035                  0.594596   \n",
       "loan_term                    0.007810                  0.008016   \n",
       "cibil_score                  1.000000                 -0.019947   \n",
       "residential_assets_value    -0.019947                  1.000000   \n",
       "commercial_assets_value     -0.003769                  0.414786   \n",
       "luxury_assets_value         -0.028618                  0.590932   \n",
       "bank_asset_value            -0.015478                  0.527418   \n",
       "loan_status                  0.770518                 -0.014367   \n",
       "\n",
       "                          commercial_assets_value  luxury_assets_value  \\\n",
       "loan_id                                  0.018595            -0.000862   \n",
       "no_of_dependents                        -0.001531             0.002817   \n",
       "education                               -0.006763             0.012471   \n",
       "self_employed                           -0.017998             0.004413   \n",
       "income_annum                             0.640328             0.929145   \n",
       "loan_amount                              0.603188             0.860914   \n",
       "loan_term                               -0.005478             0.012490   \n",
       "cibil_score                             -0.003769            -0.028618   \n",
       "residential_assets_value                 0.414786             0.590932   \n",
       "commercial_assets_value                  1.000000             0.591128   \n",
       "luxury_assets_value                      0.591128             1.000000   \n",
       "bank_asset_value                         0.548576             0.788517   \n",
       "loan_status                              0.008246            -0.015465   \n",
       "\n",
       "                          bank_asset_value  loan_status  \n",
       "loan_id                           0.010765     0.017685  \n",
       "no_of_dependents                  0.011163    -0.018114  \n",
       "education                         0.009424     0.004918  \n",
       "self_employed                    -0.000215     0.000345  \n",
       "income_annum                      0.851093    -0.015189  \n",
       "loan_amount                       0.788122     0.016150  \n",
       "loan_term                         0.017177    -0.113036  \n",
       "cibil_score                      -0.015478     0.770518  \n",
       "residential_assets_value          0.527418    -0.014367  \n",
       "commercial_assets_value           0.548576     0.008246  \n",
       "luxury_assets_value               0.788517    -0.015465  \n",
       "bank_asset_value                  1.000000    -0.006778  \n",
       "loan_status                      -0.006778     1.000000  "
      ]
     },
     "execution_count": 86,
     "metadata": {},
     "output_type": "execute_result"
    }
   ],
   "source": [
    "loan_raw_df.corr()"
   ]
  },
  {
   "cell_type": "markdown",
   "id": "8430dfd6",
   "metadata": {},
   "source": [
    "The cibil_score has high correlation with loan_status , we we will select cibil_score as feautee, previously I had use other features as well but the accuracy score was not high as we get when use only cibil_score."
   ]
  },
  {
   "cell_type": "code",
   "execution_count": 87,
   "id": "8cde840e",
   "metadata": {},
   "outputs": [
    {
     "data": {
      "text/plain": [
       "<AxesSubplot:>"
      ]
     },
     "execution_count": 87,
     "metadata": {},
     "output_type": "execute_result"
    },
    {
     "data": {
      "image/png": "[encoded data removed]",
      "text/plain": [
       "<Figure size 432x288 with 2 Axes>"
      ]
     },
     "metadata": {
      "needs_background": "light"
     },
     "output_type": "display_data"
    }
   ],
   "source": [
    "sns.heatmap(loan_raw_df.corr())"
   ]
  },
  {
   "cell_type": "code",
   "execution_count": 88,
   "id": "ee749cc6",
   "metadata": {},
   "outputs": [],
   "source": [
    "features =  np.array(loan_raw_df['cibil_score'].values.tolist())"
   ]
  },
  {
   "cell_type": "code",
   "execution_count": 89,
   "id": "860852dd",
   "metadata": {},
   "outputs": [],
   "source": [
    "target = np.array(loan_raw_df['loan_status'].values.tolist())"
   ]
  },
  {
   "cell_type": "code",
   "execution_count": 90,
   "id": "907b356c",
   "metadata": {},
   "outputs": [],
   "source": [
    "x_train, X_test,y_train,y_test  = train_test_split(loan_features,target,test_size=0.33, random_state=42)"
   ]
  },
  {
   "cell_type": "code",
   "execution_count": 97,
   "id": "21d101c5",
   "metadata": {},
   "outputs": [],
   "source": [
    "x_train = x_train.reshape(-1,1)\n",
    "X_test=  X_test.reshape(-1,1) "
   ]
  },
  {
   "cell_type": "code",
   "execution_count": 98,
   "id": "7b308717",
   "metadata": {},
   "outputs": [],
   "source": [
    "model = svm.SVC()"
   ]
  },
  {
   "cell_type": "code",
   "execution_count": 99,
   "id": "fb8b88b9",
   "metadata": {},
   "outputs": [
    {
     "data": {
      "text/plain": [
       "SVC()"
      ]
     },
     "execution_count": 99,
     "metadata": {},
     "output_type": "execute_result"
    }
   ],
   "source": [
    "model.fit(x_train,y_train)"
   ]
  },
  {
   "cell_type": "code",
   "execution_count": 100,
   "id": "4b22c8b8",
   "metadata": {},
   "outputs": [],
   "source": [
    "pred = model.predict(X_test)"
   ]
  },
  {
   "cell_type": "code",
   "execution_count": 62,
   "id": "e8b0b350",
   "metadata": {},
   "outputs": [],
   "source": [
    "from sklearn.metrics import accuracy_score"
   ]
  },
  {
   "cell_type": "code",
   "execution_count": 101,
   "id": "8160b022",
   "metadata": {},
   "outputs": [
    {
     "data": {
      "text/plain": [
       "0.9510290986515259"
      ]
     },
     "execution_count": 101,
     "metadata": {},
     "output_type": "execute_result"
    }
   ],
   "source": [
    "accuracy_score(y_test, pred)"
   ]
  },
  {
   "cell_type": "markdown",
   "id": "a5e1e3c3",
   "metadata": {},
   "source": [
    "With cibil_score as feature we have achived pretty good accuracy of 95.10 %."
   ]
  }
 ],
 "metadata": {
  "kernelspec": {
   "display_name": "Python 3 (ipykernel)",
   "language": "python",
   "name": "python3"
  },
  "language_info": {
   "codemirror_mode": {
    "name": "ipython",
    "version": 3
   },
   "file_extension": ".py",
   "mimetype": "text/x-python",
   "name": "python",
   "nbconvert_exporter": "python",
   "pygments_lexer": "ipython3",
   "version": "3.9.12"
  }
 },
 "nbformat": 4,
 "nbformat_minor": 5
}
